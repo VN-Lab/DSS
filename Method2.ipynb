{
  "nbformat": 4,
  "nbformat_minor": 0,
  "metadata": {
    "colab": {
      "name": "Method2.ipynb",
      "provenance": [],
      "collapsed_sections": []
    },
    "kernelspec": {
      "name": "python3",
      "display_name": "Python 3"
    },
    "language_info": {
      "name": "python"
    }
  },
  "cells": [
    {
      "cell_type": "code",
      "metadata": {
        "id": "OXsoe76ffrr7"
      },
      "source": [
        ""
      ],
      "execution_count": null,
      "outputs": []
    },
    {
      "cell_type": "markdown",
      "metadata": {
        "id": "0uOO1dZ_f3er"
      },
      "source": [
        "### In this method we are dividing our 20sample data sets into 5 test sample and 15 training sample\n"
      ]
    },
    {
      "cell_type": "code",
      "metadata": {
        "colab": {
          "base_uri": "https://localhost:8080/"
        },
        "id": "4lNe2HbAfrvK",
        "outputId": "81cd82c9-8d10-4bfe-f3f0-9d6a403b8884"
      },
      "source": [
        "import numpy as np # linear algebra\n",
        "import pandas as pd \n",
        "import seaborn as sns\n",
        "from sklearn.tree import DecisionTreeClassifier\n",
        "from sklearn.ensemble import RandomForestClassifier\n",
        "from sklearn.metrics import confusion_matrix\n",
        "from sklearn.metrics import precision_score, recall_score\n",
        "from sklearn.metrics import f1_score, roc_auc_score, roc_curve\n",
        "from sklearn.metrics import classification_report\n",
        "import matplotlib.pyplot as plt\n",
        "data = pd.read_csv('DSS2.csv')\n",
        "test1 = pd.read_csv('FINAL (1).csv')\n",
        "data['SampleID'].unique()"
      ],
      "execution_count": null,
      "outputs": [
        {
          "output_type": "execute_result",
          "data": {
            "text/plain": [
              "array(['ERR035487', 'ERR035488', 'ERR035489', 'ERR166303', 'ERR166304',\n",
              "       'ERR166307', 'ERR166310', 'ERR166312', 'ERR166335', 'ERR166336',\n",
              "       'ERR232253', 'ERR232254', 'ERR232255', 'SRR894452', 'SRR900099',\n",
              "       'SRR900123', 'SRR941051', 'SRR941052', 'SRR941053', 'SRR941054'],\n",
              "      dtype=object)"
            ]
          },
          "metadata": {},
          "execution_count": 3
        }
      ]
    },
    {
      "cell_type": "code",
      "metadata": {
        "colab": {
          "base_uri": "https://localhost:8080/"
        },
        "id": "Lwy5eob9fry1",
        "outputId": "4da5c170-17d5-42bf-8fce-0b5c5a25dfb7"
      },
      "source": [
        "o = ['SRR900123','SRR941054','ERR166335','ERR035489','ERR232254' ]\n",
        "test_data = data.loc[data['SampleID'].isin(o)] \n",
        "O = ['SRR894452','SRR90009','SRR941051', 'SRR941052', 'SRR941053','ERR166303', 'ERR166304', 'ERR166307', 'ERR166310', 'ERR166312', 'ERR166336',\n",
        "     'ERR166336','ERR232253','ERR232255']\n",
        "train_data = data.loc[data['SampleID'].isin(O)]\n",
        "train_data['SIFT'].fillna(value = 'tolerated',inplace =True)"
      ],
      "execution_count": null,
      "outputs": [
        {
          "output_type": "stream",
          "name": "stderr",
          "text": [
            "/usr/local/lib/python3.7/dist-packages/pandas/core/series.py:4536: SettingWithCopyWarning: \n",
            "A value is trying to be set on a copy of a slice from a DataFrame\n",
            "\n",
            "See the caveats in the documentation: https://pandas.pydata.org/pandas-docs/stable/user_guide/indexing.html#returning-a-view-versus-a-copy\n",
            "  downcast=downcast,\n"
          ]
        }
      ]
    },
    {
      "cell_type": "code",
      "metadata": {
        "colab": {
          "base_uri": "https://localhost:8080/",
          "height": 414
        },
        "id": "NspkQWAsfr0T",
        "outputId": "31a96f47-e5c6-4e11-d233-1195c1cb4493"
      },
      "source": [
        "train_x = train_data[['VARIANT_CLASS','TLOD','shiftscore', 'Sample.AF', 'SIFT','MBQ', 'MFRL', 'MMQ','Sample.AD', 'Sample.F1R2', 'Sample.F2R1', 'DP', 'GERMQ', 'MPOS',\n",
        "       'POPAF', 'Sample.DP']]\n",
        "\n",
        "a1 = {'SNV':0,'substitution':1,'deletion':2,'insertion':3}\n",
        "train_x['VARIANT_CLASS'] = train_x['VARIANT_CLASS'].map(a1)\n",
        "b1= {'deleterious':0, 'tolerated':1, 'deleterious_low_confidence':2,\n",
        "       'tolerated_low_confidence':3}\n",
        "train_x['SIFT'] = train_x['SIFT'].map(b1)\n",
        "train_x.head()"
      ],
      "execution_count": null,
      "outputs": [
        {
          "output_type": "stream",
          "name": "stderr",
          "text": [
            "/usr/local/lib/python3.7/dist-packages/ipykernel_launcher.py:5: SettingWithCopyWarning: \n",
            "A value is trying to be set on a copy of a slice from a DataFrame.\n",
            "Try using .loc[row_indexer,col_indexer] = value instead\n",
            "\n",
            "See the caveats in the documentation: https://pandas.pydata.org/pandas-docs/stable/user_guide/indexing.html#returning-a-view-versus-a-copy\n",
            "  \"\"\"\n",
            "/usr/local/lib/python3.7/dist-packages/ipykernel_launcher.py:8: SettingWithCopyWarning: \n",
            "A value is trying to be set on a copy of a slice from a DataFrame.\n",
            "Try using .loc[row_indexer,col_indexer] = value instead\n",
            "\n",
            "See the caveats in the documentation: https://pandas.pydata.org/pandas-docs/stable/user_guide/indexing.html#returning-a-view-versus-a-copy\n",
            "  \n"
          ]
        },
        {
          "output_type": "execute_result",
          "data": {
            "text/html": [
              "\n",
              "  <div id=\"df-76792f03-29c5-44de-8627-ccad66abeaaf\">\n",
              "    <div class=\"colab-df-container\">\n",
              "      <div>\n",
              "<style scoped>\n",
              "    .dataframe tbody tr th:only-of-type {\n",
              "        vertical-align: middle;\n",
              "    }\n",
              "\n",
              "    .dataframe tbody tr th {\n",
              "        vertical-align: top;\n",
              "    }\n",
              "\n",
              "    .dataframe thead th {\n",
              "        text-align: right;\n",
              "    }\n",
              "</style>\n",
              "<table border=\"1\" class=\"dataframe\">\n",
              "  <thead>\n",
              "    <tr style=\"text-align: right;\">\n",
              "      <th></th>\n",
              "      <th>VARIANT_CLASS</th>\n",
              "      <th>TLOD</th>\n",
              "      <th>shiftscore</th>\n",
              "      <th>Sample.AF</th>\n",
              "      <th>SIFT</th>\n",
              "      <th>MBQ</th>\n",
              "      <th>MFRL</th>\n",
              "      <th>MMQ</th>\n",
              "      <th>Sample.AD</th>\n",
              "      <th>Sample.F1R2</th>\n",
              "      <th>Sample.F2R1</th>\n",
              "      <th>DP</th>\n",
              "      <th>GERMQ</th>\n",
              "      <th>MPOS</th>\n",
              "      <th>POPAF</th>\n",
              "      <th>Sample.DP</th>\n",
              "    </tr>\n",
              "  </thead>\n",
              "  <tbody>\n",
              "    <tr>\n",
              "      <th>544</th>\n",
              "      <td>0</td>\n",
              "      <td>198.84</td>\n",
              "      <td>0.150000</td>\n",
              "      <td>0.638</td>\n",
              "      <td>1</td>\n",
              "      <td>34.35</td>\n",
              "      <td>235.230</td>\n",
              "      <td>60.6</td>\n",
              "      <td>33.59</td>\n",
              "      <td>15.27</td>\n",
              "      <td>18.32</td>\n",
              "      <td>96.0</td>\n",
              "      <td>36.0</td>\n",
              "      <td>19.0</td>\n",
              "      <td>7.3</td>\n",
              "      <td>92.0</td>\n",
              "    </tr>\n",
              "    <tr>\n",
              "      <th>545</th>\n",
              "      <td>0</td>\n",
              "      <td>12.22</td>\n",
              "      <td>0.410000</td>\n",
              "      <td>0.164</td>\n",
              "      <td>1</td>\n",
              "      <td>20.22</td>\n",
              "      <td>225.231</td>\n",
              "      <td>60.6</td>\n",
              "      <td>59.14</td>\n",
              "      <td>17.50</td>\n",
              "      <td>13.30</td>\n",
              "      <td>98.0</td>\n",
              "      <td>63.0</td>\n",
              "      <td>29.0</td>\n",
              "      <td>7.3</td>\n",
              "      <td>73.0</td>\n",
              "    </tr>\n",
              "    <tr>\n",
              "      <th>546</th>\n",
              "      <td>0</td>\n",
              "      <td>288.47</td>\n",
              "      <td>0.260000</td>\n",
              "      <td>0.423</td>\n",
              "      <td>1</td>\n",
              "      <td>37.38</td>\n",
              "      <td>233.231</td>\n",
              "      <td>60.6</td>\n",
              "      <td>115.84</td>\n",
              "      <td>54.47</td>\n",
              "      <td>61.37</td>\n",
              "      <td>212.0</td>\n",
              "      <td>20.0</td>\n",
              "      <td>18.0</td>\n",
              "      <td>7.3</td>\n",
              "      <td>199.0</td>\n",
              "    </tr>\n",
              "    <tr>\n",
              "      <th>547</th>\n",
              "      <td>0</td>\n",
              "      <td>64.63</td>\n",
              "      <td>0.168149</td>\n",
              "      <td>0.467</td>\n",
              "      <td>1</td>\n",
              "      <td>37.36</td>\n",
              "      <td>233.240</td>\n",
              "      <td>60.6</td>\n",
              "      <td>23.20</td>\n",
              "      <td>10.11</td>\n",
              "      <td>13.90</td>\n",
              "      <td>45.0</td>\n",
              "      <td>16.0</td>\n",
              "      <td>20.0</td>\n",
              "      <td>7.3</td>\n",
              "      <td>43.0</td>\n",
              "    </tr>\n",
              "    <tr>\n",
              "      <th>548</th>\n",
              "      <td>0</td>\n",
              "      <td>143.32</td>\n",
              "      <td>0.030000</td>\n",
              "      <td>0.490</td>\n",
              "      <td>0</td>\n",
              "      <td>38.30</td>\n",
              "      <td>236.238</td>\n",
              "      <td>60.6</td>\n",
              "      <td>51.49</td>\n",
              "      <td>28.26</td>\n",
              "      <td>22.22</td>\n",
              "      <td>104.0</td>\n",
              "      <td>14.0</td>\n",
              "      <td>11.0</td>\n",
              "      <td>7.3</td>\n",
              "      <td>100.0</td>\n",
              "    </tr>\n",
              "  </tbody>\n",
              "</table>\n",
              "</div>\n",
              "      <button class=\"colab-df-convert\" onclick=\"convertToInteractive('df-76792f03-29c5-44de-8627-ccad66abeaaf')\"\n",
              "              title=\"Convert this dataframe to an interactive table.\"\n",
              "              style=\"display:none;\">\n",
              "        \n",
              "  <svg xmlns=\"http://www.w3.org/2000/svg\" height=\"24px\"viewBox=\"0 0 24 24\"\n",
              "       width=\"24px\">\n",
              "    <path d=\"M0 0h24v24H0V0z\" fill=\"none\"/>\n",
              "    <path d=\"M18.56 5.44l.94 2.06.94-2.06 2.06-.94-2.06-.94-.94-2.06-.94 2.06-2.06.94zm-11 1L8.5 8.5l.94-2.06 2.06-.94-2.06-.94L8.5 2.5l-.94 2.06-2.06.94zm10 10l.94 2.06.94-2.06 2.06-.94-2.06-.94-.94-2.06-.94 2.06-2.06.94z\"/><path d=\"M17.41 7.96l-1.37-1.37c-.4-.4-.92-.59-1.43-.59-.52 0-1.04.2-1.43.59L10.3 9.45l-7.72 7.72c-.78.78-.78 2.05 0 2.83L4 21.41c.39.39.9.59 1.41.59.51 0 1.02-.2 1.41-.59l7.78-7.78 2.81-2.81c.8-.78.8-2.07 0-2.86zM5.41 20L4 18.59l7.72-7.72 1.47 1.35L5.41 20z\"/>\n",
              "  </svg>\n",
              "      </button>\n",
              "      \n",
              "  <style>\n",
              "    .colab-df-container {\n",
              "      display:flex;\n",
              "      flex-wrap:wrap;\n",
              "      gap: 12px;\n",
              "    }\n",
              "\n",
              "    .colab-df-convert {\n",
              "      background-color: #E8F0FE;\n",
              "      border: none;\n",
              "      border-radius: 50%;\n",
              "      cursor: pointer;\n",
              "      display: none;\n",
              "      fill: #1967D2;\n",
              "      height: 32px;\n",
              "      padding: 0 0 0 0;\n",
              "      width: 32px;\n",
              "    }\n",
              "\n",
              "    .colab-df-convert:hover {\n",
              "      background-color: #E2EBFA;\n",
              "      box-shadow: 0px 1px 2px rgba(60, 64, 67, 0.3), 0px 1px 3px 1px rgba(60, 64, 67, 0.15);\n",
              "      fill: #174EA6;\n",
              "    }\n",
              "\n",
              "    [theme=dark] .colab-df-convert {\n",
              "      background-color: #3B4455;\n",
              "      fill: #D2E3FC;\n",
              "    }\n",
              "\n",
              "    [theme=dark] .colab-df-convert:hover {\n",
              "      background-color: #434B5C;\n",
              "      box-shadow: 0px 1px 3px 1px rgba(0, 0, 0, 0.15);\n",
              "      filter: drop-shadow(0px 1px 2px rgba(0, 0, 0, 0.3));\n",
              "      fill: #FFFFFF;\n",
              "    }\n",
              "  </style>\n",
              "\n",
              "      <script>\n",
              "        const buttonEl =\n",
              "          document.querySelector('#df-76792f03-29c5-44de-8627-ccad66abeaaf button.colab-df-convert');\n",
              "        buttonEl.style.display =\n",
              "          google.colab.kernel.accessAllowed ? 'block' : 'none';\n",
              "\n",
              "        async function convertToInteractive(key) {\n",
              "          const element = document.querySelector('#df-76792f03-29c5-44de-8627-ccad66abeaaf');\n",
              "          const dataTable =\n",
              "            await google.colab.kernel.invokeFunction('convertToInteractive',\n",
              "                                                     [key], {});\n",
              "          if (!dataTable) return;\n",
              "\n",
              "          const docLinkHtml = 'Like what you see? Visit the ' +\n",
              "            '<a target=\"_blank\" href=https://colab.research.google.com/notebooks/data_table.ipynb>data table notebook</a>'\n",
              "            + ' to learn more about interactive tables.';\n",
              "          element.innerHTML = '';\n",
              "          dataTable['output_type'] = 'display_data';\n",
              "          await google.colab.output.renderOutput(dataTable, element);\n",
              "          const docLink = document.createElement('div');\n",
              "          docLink.innerHTML = docLinkHtml;\n",
              "          element.appendChild(docLink);\n",
              "        }\n",
              "      </script>\n",
              "    </div>\n",
              "  </div>\n",
              "  "
            ],
            "text/plain": [
              "     VARIANT_CLASS    TLOD  shiftscore  ...  MPOS  POPAF  Sample.DP\n",
              "544              0  198.84    0.150000  ...  19.0    7.3       92.0\n",
              "545              0   12.22    0.410000  ...  29.0    7.3       73.0\n",
              "546              0  288.47    0.260000  ...  18.0    7.3      199.0\n",
              "547              0   64.63    0.168149  ...  20.0    7.3       43.0\n",
              "548              0  143.32    0.030000  ...  11.0    7.3      100.0\n",
              "\n",
              "[5 rows x 16 columns]"
            ]
          },
          "metadata": {},
          "execution_count": 5
        }
      ]
    },
    {
      "cell_type": "code",
      "metadata": {
        "colab": {
          "base_uri": "https://localhost:8080/"
        },
        "id": "ko2YX5F6fr19",
        "outputId": "b580aca5-1bbd-46fc-f862-31a7918940e4"
      },
      "source": [
        "train_x['cancer'] = train_data[['cancer']]\n",
        "target = train_x[['cancer']]\n",
        "train_x = train_x.drop(['cancer'],axis = 1)\n",
        "train_x.isna().sum()"
      ],
      "execution_count": null,
      "outputs": [
        {
          "output_type": "stream",
          "name": "stderr",
          "text": [
            "/usr/local/lib/python3.7/dist-packages/ipykernel_launcher.py:1: SettingWithCopyWarning: \n",
            "A value is trying to be set on a copy of a slice from a DataFrame.\n",
            "Try using .loc[row_indexer,col_indexer] = value instead\n",
            "\n",
            "See the caveats in the documentation: https://pandas.pydata.org/pandas-docs/stable/user_guide/indexing.html#returning-a-view-versus-a-copy\n",
            "  \"\"\"Entry point for launching an IPython kernel.\n"
          ]
        },
        {
          "output_type": "execute_result",
          "data": {
            "text/plain": [
              "VARIANT_CLASS    0\n",
              "TLOD             0\n",
              "shiftscore       0\n",
              "Sample.AF        0\n",
              "SIFT             0\n",
              "MBQ              0\n",
              "MFRL             0\n",
              "MMQ              0\n",
              "Sample.AD        0\n",
              "Sample.F1R2      0\n",
              "Sample.F2R1      0\n",
              "DP               0\n",
              "GERMQ            0\n",
              "MPOS             0\n",
              "POPAF            0\n",
              "Sample.DP        0\n",
              "dtype: int64"
            ]
          },
          "metadata": {},
          "execution_count": 6
        }
      ]
    },
    {
      "cell_type": "markdown",
      "metadata": {
        "id": "Y6mS9IXnf1oC"
      },
      "source": [
        "# training the model"
      ]
    },
    {
      "cell_type": "code",
      "metadata": {
        "colab": {
          "base_uri": "https://localhost:8080/"
        },
        "id": "PTuxppi8f2sG",
        "outputId": "c45e6f28-8c42-48a5-9e63-5d0c4583608e"
      },
      "source": [
        "clf= RandomForestClassifier(n_estimators= 100, criterion=\"entropy\")  \n",
        "clf.fit(train_x, target)\n"
      ],
      "execution_count": null,
      "outputs": [
        {
          "output_type": "stream",
          "name": "stderr",
          "text": [
            "/usr/local/lib/python3.7/dist-packages/ipykernel_launcher.py:2: DataConversionWarning: A column-vector y was passed when a 1d array was expected. Please change the shape of y to (n_samples,), for example using ravel().\n",
            "  \n"
          ]
        },
        {
          "output_type": "execute_result",
          "data": {
            "text/plain": [
              "RandomForestClassifier(criterion='entropy')"
            ]
          },
          "metadata": {},
          "execution_count": 7
        }
      ]
    },
    {
      "cell_type": "markdown",
      "metadata": {
        "id": "Sp3GMv0khNdV"
      },
      "source": [
        "## testing"
      ]
    },
    {
      "cell_type": "code",
      "metadata": {
        "colab": {
          "base_uri": "https://localhost:8080/",
          "height": 617
        },
        "id": "YqYkQw2xhEyR",
        "outputId": "73343e46-2164-4c07-af9a-b45791b9e230"
      },
      "source": [
        "test_data.head()"
      ],
      "execution_count": null,
      "outputs": [
        {
          "output_type": "execute_result",
          "data": {
            "text/html": [
              "\n",
              "  <div id=\"df-fe96746f-32c0-44b7-8b13-1d8d583b4284\">\n",
              "    <div class=\"colab-df-container\">\n",
              "      <div>\n",
              "<style scoped>\n",
              "    .dataframe tbody tr th:only-of-type {\n",
              "        vertical-align: middle;\n",
              "    }\n",
              "\n",
              "    .dataframe tbody tr th {\n",
              "        vertical-align: top;\n",
              "    }\n",
              "\n",
              "    .dataframe thead th {\n",
              "        text-align: right;\n",
              "    }\n",
              "</style>\n",
              "<table border=\"1\" class=\"dataframe\">\n",
              "  <thead>\n",
              "    <tr style=\"text-align: right;\">\n",
              "      <th></th>\n",
              "      <th>SampleID</th>\n",
              "      <th>CHROM</th>\n",
              "      <th>REF</th>\n",
              "      <th>ALT</th>\n",
              "      <th>Consequence</th>\n",
              "      <th>IMPACT</th>\n",
              "      <th>SYMBOL</th>\n",
              "      <th>FILTER</th>\n",
              "      <th>BIOTYPE</th>\n",
              "      <th>VARIANT_CLASS</th>\n",
              "      <th>cancer</th>\n",
              "      <th>shiftscore</th>\n",
              "      <th>mutation</th>\n",
              "      <th>TLOD</th>\n",
              "      <th>Sample.AF</th>\n",
              "      <th>SIFT</th>\n",
              "      <th>MBQ</th>\n",
              "      <th>MFRL</th>\n",
              "      <th>MMQ</th>\n",
              "      <th>Sample.AD</th>\n",
              "      <th>Sample.F1R2</th>\n",
              "      <th>Sample.F2R1</th>\n",
              "      <th>DP</th>\n",
              "      <th>GERMQ</th>\n",
              "      <th>MPOS</th>\n",
              "      <th>POPAF</th>\n",
              "      <th>Sample.DP</th>\n",
              "    </tr>\n",
              "  </thead>\n",
              "  <tbody>\n",
              "    <tr>\n",
              "      <th>346</th>\n",
              "      <td>ERR035489</td>\n",
              "      <td>chr1</td>\n",
              "      <td>G</td>\n",
              "      <td>T</td>\n",
              "      <td>missense_variant</td>\n",
              "      <td>MODERATE</td>\n",
              "      <td>NADK</td>\n",
              "      <td>PASS</td>\n",
              "      <td>protein_coding</td>\n",
              "      <td>SNV</td>\n",
              "      <td>High-grade serous ovarian cancer</td>\n",
              "      <td>0.590000</td>\n",
              "      <td>G-T</td>\n",
              "      <td>34.35</td>\n",
              "      <td>0.688</td>\n",
              "      <td>tolerated_low_confidence</td>\n",
              "      <td>29.30</td>\n",
              "      <td>195.121</td>\n",
              "      <td>60.6</td>\n",
              "      <td>5.12</td>\n",
              "      <td>4.40</td>\n",
              "      <td>1.80</td>\n",
              "      <td>19.0</td>\n",
              "      <td>37.0</td>\n",
              "      <td>27.0</td>\n",
              "      <td>7.30</td>\n",
              "      <td>17.0</td>\n",
              "    </tr>\n",
              "    <tr>\n",
              "      <th>347</th>\n",
              "      <td>ERR035489</td>\n",
              "      <td>chr1</td>\n",
              "      <td>T</td>\n",
              "      <td>C</td>\n",
              "      <td>missense_variant</td>\n",
              "      <td>MODERATE</td>\n",
              "      <td>CHD5</td>\n",
              "      <td>PASS</td>\n",
              "      <td>protein_coding</td>\n",
              "      <td>SNV</td>\n",
              "      <td>High-grade serous ovarian cancer</td>\n",
              "      <td>0.340000</td>\n",
              "      <td>T-C</td>\n",
              "      <td>64.76</td>\n",
              "      <td>0.581</td>\n",
              "      <td>tolerated_low_confidence</td>\n",
              "      <td>37.38</td>\n",
              "      <td>118.132</td>\n",
              "      <td>60.6</td>\n",
              "      <td>13.18</td>\n",
              "      <td>9.10</td>\n",
              "      <td>4.80</td>\n",
              "      <td>35.0</td>\n",
              "      <td>28.0</td>\n",
              "      <td>20.0</td>\n",
              "      <td>7.30</td>\n",
              "      <td>31.0</td>\n",
              "    </tr>\n",
              "    <tr>\n",
              "      <th>348</th>\n",
              "      <td>ERR035489</td>\n",
              "      <td>chr1</td>\n",
              "      <td>A</td>\n",
              "      <td>T</td>\n",
              "      <td>stop_gained</td>\n",
              "      <td>HIGH</td>\n",
              "      <td>EXOSC10</td>\n",
              "      <td>PASS</td>\n",
              "      <td>protein_coding</td>\n",
              "      <td>SNV</td>\n",
              "      <td>High-grade serous ovarian cancer</td>\n",
              "      <td>0.168149</td>\n",
              "      <td>A-T</td>\n",
              "      <td>131.44</td>\n",
              "      <td>0.783</td>\n",
              "      <td>NaN</td>\n",
              "      <td>35.37</td>\n",
              "      <td>134.152</td>\n",
              "      <td>60.6</td>\n",
              "      <td>11.38</td>\n",
              "      <td>8.20</td>\n",
              "      <td>3.18</td>\n",
              "      <td>50.0</td>\n",
              "      <td>63.0</td>\n",
              "      <td>20.0</td>\n",
              "      <td>7.30</td>\n",
              "      <td>49.0</td>\n",
              "    </tr>\n",
              "    <tr>\n",
              "      <th>349</th>\n",
              "      <td>ERR035489</td>\n",
              "      <td>chr1</td>\n",
              "      <td>G</td>\n",
              "      <td>A</td>\n",
              "      <td>missense_variant</td>\n",
              "      <td>MODERATE</td>\n",
              "      <td>DISP3</td>\n",
              "      <td>PASS</td>\n",
              "      <td>protein_coding</td>\n",
              "      <td>SNV</td>\n",
              "      <td>High-grade serous ovarian cancer</td>\n",
              "      <td>0.000000</td>\n",
              "      <td>G-A</td>\n",
              "      <td>186.97</td>\n",
              "      <td>0.340</td>\n",
              "      <td>deleterious</td>\n",
              "      <td>30.35</td>\n",
              "      <td>137.136</td>\n",
              "      <td>60.6</td>\n",
              "      <td>134.67</td>\n",
              "      <td>59.31</td>\n",
              "      <td>69.35</td>\n",
              "      <td>210.0</td>\n",
              "      <td>33.0</td>\n",
              "      <td>17.0</td>\n",
              "      <td>4.31</td>\n",
              "      <td>201.0</td>\n",
              "    </tr>\n",
              "    <tr>\n",
              "      <th>350</th>\n",
              "      <td>ERR035489</td>\n",
              "      <td>chr1</td>\n",
              "      <td>TC</td>\n",
              "      <td>T</td>\n",
              "      <td>frameshift_variant</td>\n",
              "      <td>HIGH</td>\n",
              "      <td>FBXO44</td>\n",
              "      <td>PASS</td>\n",
              "      <td>protein_coding</td>\n",
              "      <td>deletion</td>\n",
              "      <td>High-grade serous ovarian cancer</td>\n",
              "      <td>0.168149</td>\n",
              "      <td>TC-T</td>\n",
              "      <td>162.21</td>\n",
              "      <td>0.587</td>\n",
              "      <td>NaN</td>\n",
              "      <td>29.26</td>\n",
              "      <td>134.124</td>\n",
              "      <td>60.6</td>\n",
              "      <td>44.67</td>\n",
              "      <td>15.39</td>\n",
              "      <td>27.25</td>\n",
              "      <td>123.0</td>\n",
              "      <td>6.0</td>\n",
              "      <td>19.0</td>\n",
              "      <td>7.30</td>\n",
              "      <td>111.0</td>\n",
              "    </tr>\n",
              "  </tbody>\n",
              "</table>\n",
              "</div>\n",
              "      <button class=\"colab-df-convert\" onclick=\"convertToInteractive('df-fe96746f-32c0-44b7-8b13-1d8d583b4284')\"\n",
              "              title=\"Convert this dataframe to an interactive table.\"\n",
              "              style=\"display:none;\">\n",
              "        \n",
              "  <svg xmlns=\"http://www.w3.org/2000/svg\" height=\"24px\"viewBox=\"0 0 24 24\"\n",
              "       width=\"24px\">\n",
              "    <path d=\"M0 0h24v24H0V0z\" fill=\"none\"/>\n",
              "    <path d=\"M18.56 5.44l.94 2.06.94-2.06 2.06-.94-2.06-.94-.94-2.06-.94 2.06-2.06.94zm-11 1L8.5 8.5l.94-2.06 2.06-.94-2.06-.94L8.5 2.5l-.94 2.06-2.06.94zm10 10l.94 2.06.94-2.06 2.06-.94-2.06-.94-.94-2.06-.94 2.06-2.06.94z\"/><path d=\"M17.41 7.96l-1.37-1.37c-.4-.4-.92-.59-1.43-.59-.52 0-1.04.2-1.43.59L10.3 9.45l-7.72 7.72c-.78.78-.78 2.05 0 2.83L4 21.41c.39.39.9.59 1.41.59.51 0 1.02-.2 1.41-.59l7.78-7.78 2.81-2.81c.8-.78.8-2.07 0-2.86zM5.41 20L4 18.59l7.72-7.72 1.47 1.35L5.41 20z\"/>\n",
              "  </svg>\n",
              "      </button>\n",
              "      \n",
              "  <style>\n",
              "    .colab-df-container {\n",
              "      display:flex;\n",
              "      flex-wrap:wrap;\n",
              "      gap: 12px;\n",
              "    }\n",
              "\n",
              "    .colab-df-convert {\n",
              "      background-color: #E8F0FE;\n",
              "      border: none;\n",
              "      border-radius: 50%;\n",
              "      cursor: pointer;\n",
              "      display: none;\n",
              "      fill: #1967D2;\n",
              "      height: 32px;\n",
              "      padding: 0 0 0 0;\n",
              "      width: 32px;\n",
              "    }\n",
              "\n",
              "    .colab-df-convert:hover {\n",
              "      background-color: #E2EBFA;\n",
              "      box-shadow: 0px 1px 2px rgba(60, 64, 67, 0.3), 0px 1px 3px 1px rgba(60, 64, 67, 0.15);\n",
              "      fill: #174EA6;\n",
              "    }\n",
              "\n",
              "    [theme=dark] .colab-df-convert {\n",
              "      background-color: #3B4455;\n",
              "      fill: #D2E3FC;\n",
              "    }\n",
              "\n",
              "    [theme=dark] .colab-df-convert:hover {\n",
              "      background-color: #434B5C;\n",
              "      box-shadow: 0px 1px 3px 1px rgba(0, 0, 0, 0.15);\n",
              "      filter: drop-shadow(0px 1px 2px rgba(0, 0, 0, 0.3));\n",
              "      fill: #FFFFFF;\n",
              "    }\n",
              "  </style>\n",
              "\n",
              "      <script>\n",
              "        const buttonEl =\n",
              "          document.querySelector('#df-fe96746f-32c0-44b7-8b13-1d8d583b4284 button.colab-df-convert');\n",
              "        buttonEl.style.display =\n",
              "          google.colab.kernel.accessAllowed ? 'block' : 'none';\n",
              "\n",
              "        async function convertToInteractive(key) {\n",
              "          const element = document.querySelector('#df-fe96746f-32c0-44b7-8b13-1d8d583b4284');\n",
              "          const dataTable =\n",
              "            await google.colab.kernel.invokeFunction('convertToInteractive',\n",
              "                                                     [key], {});\n",
              "          if (!dataTable) return;\n",
              "\n",
              "          const docLinkHtml = 'Like what you see? Visit the ' +\n",
              "            '<a target=\"_blank\" href=https://colab.research.google.com/notebooks/data_table.ipynb>data table notebook</a>'\n",
              "            + ' to learn more about interactive tables.';\n",
              "          element.innerHTML = '';\n",
              "          dataTable['output_type'] = 'display_data';\n",
              "          await google.colab.output.renderOutput(dataTable, element);\n",
              "          const docLink = document.createElement('div');\n",
              "          docLink.innerHTML = docLinkHtml;\n",
              "          element.appendChild(docLink);\n",
              "        }\n",
              "      </script>\n",
              "    </div>\n",
              "  </div>\n",
              "  "
            ],
            "text/plain": [
              "      SampleID CHROM REF ALT  ... GERMQ  MPOS POPAF Sample.DP\n",
              "346  ERR035489  chr1   G   T  ...  37.0  27.0  7.30      17.0\n",
              "347  ERR035489  chr1   T   C  ...  28.0  20.0  7.30      31.0\n",
              "348  ERR035489  chr1   A   T  ...  63.0  20.0  7.30      49.0\n",
              "349  ERR035489  chr1   G   A  ...  33.0  17.0  4.31     201.0\n",
              "350  ERR035489  chr1  TC   T  ...   6.0  19.0  7.30     111.0\n",
              "\n",
              "[5 rows x 27 columns]"
            ]
          },
          "metadata": {},
          "execution_count": 8
        }
      ]
    },
    {
      "cell_type": "code",
      "metadata": {
        "id": "xV-KzcszhDQF"
      },
      "source": [
        "def testing(a):\n",
        "  o = [a]\n",
        "  x1 = test_data.loc[test_data['SampleID'].isin(o)] \n",
        "  test = x1[['VARIANT_CLASS','TLOD','shiftscore', 'Sample.AF', 'SIFT','MBQ', 'MFRL', 'MMQ','Sample.AD', 'Sample.F1R2', 'Sample.F2R1', 'DP', 'GERMQ', 'MPOS',\n",
        "            'POPAF', 'Sample.DP']]\n",
        "  a1 = {'SNV':0,'substitution':1,'deletion':2,'insertion':3}\n",
        "  test['VARIANT_CLASS'] = test['VARIANT_CLASS'].map(a1)\n",
        "  b1 = {'deleterious':0, 'tolerated':1, 'deleterious_low_confidence':2,\n",
        "            'tolerated_low_confidence':3}\n",
        "  test['SIFT'].fillna(value = 'tolerated',inplace =True)\n",
        "  test['SIFT'] = test['SIFT'].map(b1)\n",
        "  y_pp = clf.predict(test)\n",
        "  y_pp = pd.DataFrame(y_pp)\n",
        "  y_pp.value_counts().plot.pie(autopct='%.2f')"
      ],
      "execution_count": null,
      "outputs": []
    },
    {
      "cell_type": "code",
      "metadata": {
        "colab": {
          "base_uri": "https://localhost:8080/",
          "height": 543
        },
        "id": "UMUyXdBYi4AG",
        "outputId": "dd2fcfe9-354e-46ea-a498-efb931d8ba82"
      },
      "source": [
        "a1 = 'ERR232254'\n",
        "testing(a1)"
      ],
      "execution_count": null,
      "outputs": [
        {
          "output_type": "stream",
          "name": "stderr",
          "text": [
            "/usr/local/lib/python3.7/dist-packages/ipykernel_launcher.py:7: SettingWithCopyWarning: \n",
            "A value is trying to be set on a copy of a slice from a DataFrame.\n",
            "Try using .loc[row_indexer,col_indexer] = value instead\n",
            "\n",
            "See the caveats in the documentation: https://pandas.pydata.org/pandas-docs/stable/user_guide/indexing.html#returning-a-view-versus-a-copy\n",
            "  import sys\n",
            "/usr/local/lib/python3.7/dist-packages/pandas/core/series.py:4536: SettingWithCopyWarning: \n",
            "A value is trying to be set on a copy of a slice from a DataFrame\n",
            "\n",
            "See the caveats in the documentation: https://pandas.pydata.org/pandas-docs/stable/user_guide/indexing.html#returning-a-view-versus-a-copy\n",
            "  downcast=downcast,\n",
            "/usr/local/lib/python3.7/dist-packages/ipykernel_launcher.py:11: SettingWithCopyWarning: \n",
            "A value is trying to be set on a copy of a slice from a DataFrame.\n",
            "Try using .loc[row_indexer,col_indexer] = value instead\n",
            "\n",
            "See the caveats in the documentation: https://pandas.pydata.org/pandas-docs/stable/user_guide/indexing.html#returning-a-view-versus-a-copy\n",
            "  # This is added back by InteractiveShellApp.init_path()\n"
          ]
        },
        {
          "output_type": "display_data",
          "data": {
            "image/png": "[encoded data removed]",
            "text/plain": [
              "<Figure size 432x288 with 1 Axes>"
            ]
          },
          "metadata": {}
        }
      ]
    },
    {
      "cell_type": "code",
      "metadata": {
        "colab": {
          "base_uri": "https://localhost:8080/"
        },
        "id": "cfSDHLtNjdgV",
        "outputId": "cfdecd19-347c-4c77-ff0e-b230f2f0bf42"
      },
      "source": [
        "o = ['ERR232254']\n",
        "X = test_data.loc[test_data['SampleID'].isin(o)]\n",
        "X['cancer'].head(2)"
      ],
      "execution_count": null,
      "outputs": [
        {
          "output_type": "execute_result",
          "data": {
            "text/plain": [
              "1470    Pancreatic adenocarcinoma\n",
              "1471    Pancreatic adenocarcinoma\n",
              "Name: cancer, dtype: object"
            ]
          },
          "metadata": {},
          "execution_count": 11
        }
      ]
    },
    {
      "cell_type": "markdown",
      "metadata": {
        "id": "UzHAdf0kjlWr"
      },
      "source": [
        "## our model predicting correctly for **Pancreatic adenocarcinoma**"
      ]
    },
    {
      "cell_type": "code",
      "metadata": {
        "colab": {
          "base_uri": "https://localhost:8080/",
          "height": 543
        },
        "id": "WvRnkLH-jj8y",
        "outputId": "ab13aad7-9206-4538-c044-b2e0ac406454"
      },
      "source": [
        "a2 = 'ERR166335'\n",
        "testing(a2)"
      ],
      "execution_count": null,
      "outputs": [
        {
          "output_type": "stream",
          "name": "stderr",
          "text": [
            "/usr/local/lib/python3.7/dist-packages/ipykernel_launcher.py:7: SettingWithCopyWarning: \n",
            "A value is trying to be set on a copy of a slice from a DataFrame.\n",
            "Try using .loc[row_indexer,col_indexer] = value instead\n",
            "\n",
            "See the caveats in the documentation: https://pandas.pydata.org/pandas-docs/stable/user_guide/indexing.html#returning-a-view-versus-a-copy\n",
            "  import sys\n",
            "/usr/local/lib/python3.7/dist-packages/pandas/core/series.py:4536: SettingWithCopyWarning: \n",
            "A value is trying to be set on a copy of a slice from a DataFrame\n",
            "\n",
            "See the caveats in the documentation: https://pandas.pydata.org/pandas-docs/stable/user_guide/indexing.html#returning-a-view-versus-a-copy\n",
            "  downcast=downcast,\n",
            "/usr/local/lib/python3.7/dist-packages/ipykernel_launcher.py:11: SettingWithCopyWarning: \n",
            "A value is trying to be set on a copy of a slice from a DataFrame.\n",
            "Try using .loc[row_indexer,col_indexer] = value instead\n",
            "\n",
            "See the caveats in the documentation: https://pandas.pydata.org/pandas-docs/stable/user_guide/indexing.html#returning-a-view-versus-a-copy\n",
            "  # This is added back by InteractiveShellApp.init_path()\n"
          ]
        },
        {
          "output_type": "display_data",
          "data": {
            "image/png": "[encoded data removed]",
            "text/plain": [
              "<Figure size 432x288 with 1 Axes>"
            ]
          },
          "metadata": {}
        }
      ]
    },
    {
      "cell_type": "code",
      "metadata": {
        "colab": {
          "base_uri": "https://localhost:8080/"
        },
        "id": "xZ6uuB04hDTq",
        "outputId": "fe806bdb-fa29-4ae4-c700-1e55d3a0d828"
      },
      "source": [
        "o = ['ERR166335']\n",
        "X = test_data.loc[test_data['SampleID'].isin(o)]\n",
        "X['cancer'].head(2)"
      ],
      "execution_count": null,
      "outputs": [
        {
          "output_type": "execute_result",
          "data": {
            "text/plain": [
              "1164    Non BRCA1/BRCA2 familial breast cancer\n",
              "1165    Non BRCA1/BRCA2 familial breast cancer\n",
              "Name: cancer, dtype: object"
            ]
          },
          "metadata": {},
          "execution_count": 13
        }
      ]
    },
    {
      "cell_type": "markdown",
      "metadata": {
        "id": "knGcX0ekj_ZK"
      },
      "source": [
        "## Even for cancer type **Non BRCA1/BRCA2 familial breast cancer** prediction is correct"
      ]
    },
    {
      "cell_type": "code",
      "metadata": {
        "id": "k6gv_k-oiZP4",
        "colab": {
          "base_uri": "https://localhost:8080/",
          "height": 274
        },
        "outputId": "61f330bf-9b6d-4902-c930-a63112e51b65"
      },
      "source": [
        "from sklearn.ensemble import RandomForestClassifier\n",
        "\n",
        "\n",
        "# Training Cross-validation Models\n",
        "from sklearn.metrics import make_scorer, recall_score, matthews_corrcoef\n",
        "from sklearn.model_selection import cross_validate\n",
        "\n",
        "model_cv = RandomForestClassifier(random_state=42)\n",
        "cv_scoring = {'MCC': make_scorer(matthews_corrcoef)}\n",
        "cv = cross_validate(model_cv, train_x, target, cv=5, scoring=cv_scoring)\n",
        "\n",
        "# Apply model to make prediction\n",
        "from sklearn.metrics import matthews_corrcoef\n",
        "\n",
        "# y_train_pred = model.predict(train_x,target)\n",
        "# y_test_pred = model.predict(x_test)\n",
        "# y_test_pred\n",
        "# mcc_test = matthews_corrcoef(y_test, y_test_pred)\n",
        "mcc_cv = cv['test_MCC'].mean()\n",
        "\n",
        "# Display model performance results\n",
        "df_labels = pd.Series([ 'MCC_CV'], name = 'Performance_metric_names')\n",
        "df_values = pd.Series([mcc_cv], name = 'Performance_metric_values')\n",
        "df3 = pd.concat([df_labels, df_values], axis=1)\n",
        "df3"
      ],
      "execution_count": null,
      "outputs": [
        {
          "output_type": "stream",
          "name": "stderr",
          "text": [
            "/usr/local/lib/python3.7/dist-packages/sklearn/model_selection/_validation.py:681: DataConversionWarning: A column-vector y was passed when a 1d array was expected. Please change the shape of y to (n_samples,), for example using ravel().\n",
            "  estimator.fit(X_train, y_train, **fit_params)\n",
            "/usr/local/lib/python3.7/dist-packages/sklearn/model_selection/_validation.py:681: DataConversionWarning: A column-vector y was passed when a 1d array was expected. Please change the shape of y to (n_samples,), for example using ravel().\n",
            "  estimator.fit(X_train, y_train, **fit_params)\n",
            "/usr/local/lib/python3.7/dist-packages/sklearn/model_selection/_validation.py:681: DataConversionWarning: A column-vector y was passed when a 1d array was expected. Please change the shape of y to (n_samples,), for example using ravel().\n",
            "  estimator.fit(X_train, y_train, **fit_params)\n",
            "/usr/local/lib/python3.7/dist-packages/sklearn/model_selection/_validation.py:681: DataConversionWarning: A column-vector y was passed when a 1d array was expected. Please change the shape of y to (n_samples,), for example using ravel().\n",
            "  estimator.fit(X_train, y_train, **fit_params)\n",
            "/usr/local/lib/python3.7/dist-packages/sklearn/model_selection/_validation.py:681: DataConversionWarning: A column-vector y was passed when a 1d array was expected. Please change the shape of y to (n_samples,), for example using ravel().\n",
            "  estimator.fit(X_train, y_train, **fit_params)\n"
          ]
        },
        {
          "output_type": "execute_result",
          "data": {
            "text/html": [
              "\n",
              "  <div id=\"df-20b9b1e1-cdc4-4b78-934a-7e72367d713d\">\n",
              "    <div class=\"colab-df-container\">\n",
              "      <div>\n",
              "<style scoped>\n",
              "    .dataframe tbody tr th:only-of-type {\n",
              "        vertical-align: middle;\n",
              "    }\n",
              "\n",
              "    .dataframe tbody tr th {\n",
              "        vertical-align: top;\n",
              "    }\n",
              "\n",
              "    .dataframe thead th {\n",
              "        text-align: right;\n",
              "    }\n",
              "</style>\n",
              "<table border=\"1\" class=\"dataframe\">\n",
              "  <thead>\n",
              "    <tr style=\"text-align: right;\">\n",
              "      <th></th>\n",
              "      <th>Performance_metric_names</th>\n",
              "      <th>Performance_metric_values</th>\n",
              "    </tr>\n",
              "  </thead>\n",
              "  <tbody>\n",
              "    <tr>\n",
              "      <th>0</th>\n",
              "      <td>MCC_CV</td>\n",
              "      <td>0.936585</td>\n",
              "    </tr>\n",
              "  </tbody>\n",
              "</table>\n",
              "</div>\n",
              "      <button class=\"colab-df-convert\" onclick=\"convertToInteractive('df-20b9b1e1-cdc4-4b78-934a-7e72367d713d')\"\n",
              "              title=\"Convert this dataframe to an interactive table.\"\n",
              "              style=\"display:none;\">\n",
              "        \n",
              "  <svg xmlns=\"http://www.w3.org/2000/svg\" height=\"24px\"viewBox=\"0 0 24 24\"\n",
              "       width=\"24px\">\n",
              "    <path d=\"M0 0h24v24H0V0z\" fill=\"none\"/>\n",
              "    <path d=\"M18.56 5.44l.94 2.06.94-2.06 2.06-.94-2.06-.94-.94-2.06-.94 2.06-2.06.94zm-11 1L8.5 8.5l.94-2.06 2.06-.94-2.06-.94L8.5 2.5l-.94 2.06-2.06.94zm10 10l.94 2.06.94-2.06 2.06-.94-2.06-.94-.94-2.06-.94 2.06-2.06.94z\"/><path d=\"M17.41 7.96l-1.37-1.37c-.4-.4-.92-.59-1.43-.59-.52 0-1.04.2-1.43.59L10.3 9.45l-7.72 7.72c-.78.78-.78 2.05 0 2.83L4 21.41c.39.39.9.59 1.41.59.51 0 1.02-.2 1.41-.59l7.78-7.78 2.81-2.81c.8-.78.8-2.07 0-2.86zM5.41 20L4 18.59l7.72-7.72 1.47 1.35L5.41 20z\"/>\n",
              "  </svg>\n",
              "      </button>\n",
              "      \n",
              "  <style>\n",
              "    .colab-df-container {\n",
              "      display:flex;\n",
              "      flex-wrap:wrap;\n",
              "      gap: 12px;\n",
              "    }\n",
              "\n",
              "    .colab-df-convert {\n",
              "      background-color: #E8F0FE;\n",
              "      border: none;\n",
              "      border-radius: 50%;\n",
              "      cursor: pointer;\n",
              "      display: none;\n",
              "      fill: #1967D2;\n",
              "      height: 32px;\n",
              "      padding: 0 0 0 0;\n",
              "      width: 32px;\n",
              "    }\n",
              "\n",
              "    .colab-df-convert:hover {\n",
              "      background-color: #E2EBFA;\n",
              "      box-shadow: 0px 1px 2px rgba(60, 64, 67, 0.3), 0px 1px 3px 1px rgba(60, 64, 67, 0.15);\n",
              "      fill: #174EA6;\n",
              "    }\n",
              "\n",
              "    [theme=dark] .colab-df-convert {\n",
              "      background-color: #3B4455;\n",
              "      fill: #D2E3FC;\n",
              "    }\n",
              "\n",
              "    [theme=dark] .colab-df-convert:hover {\n",
              "      background-color: #434B5C;\n",
              "      box-shadow: 0px 1px 3px 1px rgba(0, 0, 0, 0.15);\n",
              "      filter: drop-shadow(0px 1px 2px rgba(0, 0, 0, 0.3));\n",
              "      fill: #FFFFFF;\n",
              "    }\n",
              "  </style>\n",
              "\n",
              "      <script>\n",
              "        const buttonEl =\n",
              "          document.querySelector('#df-20b9b1e1-cdc4-4b78-934a-7e72367d713d button.colab-df-convert');\n",
              "        buttonEl.style.display =\n",
              "          google.colab.kernel.accessAllowed ? 'block' : 'none';\n",
              "\n",
              "        async function convertToInteractive(key) {\n",
              "          const element = document.querySelector('#df-20b9b1e1-cdc4-4b78-934a-7e72367d713d');\n",
              "          const dataTable =\n",
              "            await google.colab.kernel.invokeFunction('convertToInteractive',\n",
              "                                                     [key], {});\n",
              "          if (!dataTable) return;\n",
              "\n",
              "          const docLinkHtml = 'Like what you see? Visit the ' +\n",
              "            '<a target=\"_blank\" href=https://colab.research.google.com/notebooks/data_table.ipynb>data table notebook</a>'\n",
              "            + ' to learn more about interactive tables.';\n",
              "          element.innerHTML = '';\n",
              "          dataTable['output_type'] = 'display_data';\n",
              "          await google.colab.output.renderOutput(dataTable, element);\n",
              "          const docLink = document.createElement('div');\n",
              "          docLink.innerHTML = docLinkHtml;\n",
              "          element.appendChild(docLink);\n",
              "        }\n",
              "      </script>\n",
              "    </div>\n",
              "  </div>\n",
              "  "
            ],
            "text/plain": [
              "  Performance_metric_names  Performance_metric_values\n",
              "0                   MCC_CV                   0.936585"
            ]
          },
          "metadata": {},
          "execution_count": 20
        }
      ]
    },
    {
      "cell_type": "code",
      "metadata": {
        "id": "5R0ZOE6SiZSF"
      },
      "source": [
        ""
      ],
      "execution_count": null,
      "outputs": []
    }
  ]
}